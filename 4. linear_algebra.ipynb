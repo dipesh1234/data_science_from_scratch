{
 "cells": [
  {
   "cell_type": "markdown",
   "id": "0f4a3af7",
   "metadata": {},
   "source": [
    "#### Linear algebra is the branch of mathematics that deals with vector spaces.\n"
   ]
  },
  {
   "cell_type": "markdown",
   "id": "1bdff788",
   "metadata": {},
   "source": [
    "### Vectors"
   ]
  },
  {
   "cell_type": "markdown",
   "id": "99560d00",
   "metadata": {},
   "source": [
    "#### Vectors are objects that can be added together to form new vectors and that can be multiplied by scalars(numbers), also to form new vectors."
   ]
  },
  {
   "cell_type": "code",
   "execution_count": 4,
   "id": "ac1ac8f1",
   "metadata": {},
   "outputs": [],
   "source": [
    "from typing import List\n",
    "Vector = List[float]\n",
    "height_weight_age = [70, 170, 40]\n",
    "grades = [95,80,75,62]"
   ]
  },
  {
   "cell_type": "code",
   "execution_count": 5,
   "id": "179b1fc8",
   "metadata": {},
   "outputs": [],
   "source": [
    "def add(v: Vector, w: Vector) -> Vector:\n",
    "    assert len(v) == len(w)\n",
    "    return[v_i + w_i for v_i, w_i in zip(v,w)]\n",
    "\n",
    "assert add([1,2,3], [4,5,6]) == [5,7,9]"
   ]
  }
 ],
 "metadata": {
  "kernelspec": {
   "display_name": "Python 3 (ipykernel)",
   "language": "python",
   "name": "python3"
  },
  "language_info": {
   "codemirror_mode": {
    "name": "ipython",
    "version": 3
   },
   "file_extension": ".py",
   "mimetype": "text/x-python",
   "name": "python",
   "nbconvert_exporter": "python",
   "pygments_lexer": "ipython3",
   "version": "3.12.3"
  }
 },
 "nbformat": 4,
 "nbformat_minor": 5
}
