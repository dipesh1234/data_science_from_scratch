{
 "cells": [
  {
   "cell_type": "markdown",
   "id": "0f4a3af7",
   "metadata": {},
   "source": [
    "#### Linear algebra is the branch of mathematics that deals with vector spaces.\n"
   ]
  },
  {
   "cell_type": "markdown",
   "id": "1bdff788",
   "metadata": {},
   "source": [
    "### Vectors"
   ]
  },
  {
   "cell_type": "markdown",
   "id": "99560d00",
   "metadata": {},
   "source": [
    "#### Vectors are objects that can be added together to form new vectors and that can be multiplied by scalars(numbers), also to form new vectors."
   ]
  },
  {
   "cell_type": "code",
   "execution_count": 2,
   "id": "ac1ac8f1",
   "metadata": {},
   "outputs": [],
   "source": [
    "from typing import List\n",
    "Vector = List[float]\n",
    "height_weight_age = [70, 170, 40]\n",
    "grades = [95,80,75,62]"
   ]
  },
  {
   "cell_type": "code",
   "execution_count": 3,
   "id": "179b1fc8",
   "metadata": {},
   "outputs": [],
   "source": [
    "def add(v: Vector, w: Vector) -> Vector:\n",
    "    assert len(v) == len(w)\n",
    "    return[v_i + w_i for v_i, w_i in zip(v,w)]\n",
    "\n",
    "assert add([1,2,3], [4,5,6]) == [5,7,9]"
   ]
  },
  {
   "cell_type": "markdown",
   "id": "dcf1d1dc",
   "metadata": {},
   "source": [
    "#### To subtract two vectors we just subtract the corresponding elements."
   ]
  },
  {
   "cell_type": "code",
   "execution_count": 4,
   "id": "7d6120d4",
   "metadata": {},
   "outputs": [
    {
     "data": {
      "text/plain": [
       "[1, 2, 3]"
      ]
     },
     "execution_count": 4,
     "metadata": {},
     "output_type": "execute_result"
    }
   ],
   "source": [
    "def subtract(v:Vector, w:Vector) -> Vector:\n",
    "    assert len(v) == len(w) # vectors must be of same length\n",
    "    return [v_i - w_i for v_i, w_i in zip(v,w)]\n",
    "subtract([5,7,9],[4,5,6])"
   ]
  },
  {
   "cell_type": "markdown",
   "id": "81536fe9",
   "metadata": {},
   "source": [
    "##### Componentwise sum a list of vectors: create a new vector whose first element is the sum of all the first elements, second element is the sum of all the second elements and so on."
   ]
  },
  {
   "cell_type": "code",
   "execution_count": 6,
   "id": "5127a094",
   "metadata": {},
   "outputs": [
    {
     "data": {
      "text/plain": [
       "[16, 20]"
      ]
     },
     "execution_count": 6,
     "metadata": {},
     "output_type": "execute_result"
    }
   ],
   "source": [
    "def vector_sum(vectors: List[Vector]) -> Vector:\n",
    "    # check the vectors are not empty\n",
    "    assert vectors, \"no vectors provided\"\n",
    "    \n",
    "    # check the vectors are all the same size\n",
    "    num_elements = len(vectors[0])\n",
    "    assert all(len(v) == num_elements for v in vectors), \"different sizes!\"\n",
    "    \n",
    "    # the i-th element of the result is the sum of every vector[i]\n",
    "    return [sum(vector[i] for vector in vectors)  \n",
    "            for i in range(num_elements)]\n",
    "    \n",
    "vector_sum([[1,2],[3,4],[5,6],[7,8]])\n"
   ]
  },
  {
   "cell_type": "markdown",
   "id": "0e0f83ec",
   "metadata": {},
   "source": [
    "####  Multiplying a vector by a scalar"
   ]
  },
  {
   "cell_type": "code",
   "execution_count": 9,
   "id": "4c37cd8e",
   "metadata": {},
   "outputs": [
    {
     "data": {
      "text/plain": [
       "True"
      ]
     },
     "execution_count": 9,
     "metadata": {},
     "output_type": "execute_result"
    }
   ],
   "source": [
    "def scalar_multiply(c: float, v: Vector) -> Vector:\n",
    "    \"\"\"Multiplies every element by c\"\"\"\n",
    "    return [c * v_i for v_i in v]\n",
    "scalar_multiply(2, [1, 2, 3]) == [2, 4, 6]"
   ]
  },
  {
   "cell_type": "markdown",
   "id": "c133f5d2",
   "metadata": {},
   "source": [
    "#### componentwise means of a list"
   ]
  },
  {
   "cell_type": "code",
   "execution_count": 12,
   "id": "719086c7",
   "metadata": {},
   "outputs": [],
   "source": [
    "def vector_mean(vectors: List[Vector]) -> Vector:\n",
    "    \"\"\"Computes the element-wise average\"\"\"\n",
    "    n = len(vectors)\n",
    "    return scalar_multiply(1/n, vector_sum(vectors))\n",
    "\n",
    "assert vector_mean([[1, 2], [3, 4], [5, 6]]) == [3, 4]"
   ]
  },
  {
   "cell_type": "markdown",
   "id": "a2abe4bb",
   "metadata": {},
   "source": [
    "#### Dot product: the dot product of two vectors is the sum of their componentwise products"
   ]
  },
  {
   "cell_type": "code",
   "execution_count": 13,
   "id": "b22991dc",
   "metadata": {},
   "outputs": [],
   "source": [
    "def dot(v: Vector, w: Vector) -> float:\n",
    "    \"\"\"Computes v_1 * w_1 + ... + v_n * w_n\"\"\"\n",
    "    assert len(v) == len(w), \"vectors must be same length\"\n",
    "    return sum(v_i * w_i for v_i, w_i in zip(v, w))\n",
    "\n",
    "assert dot([1, 2, 3], [4, 5, 6]) == 32 # 1 * 4 + 2 * 5 + 3 * 6"
   ]
  },
  {
   "cell_type": "markdown",
   "id": "41c3bb1c",
   "metadata": {},
   "source": [
    "#### vector's sum of squares:"
   ]
  },
  {
   "cell_type": "code",
   "execution_count": 14,
   "id": "125ae738",
   "metadata": {},
   "outputs": [],
   "source": [
    "def sum_of_squares(v: Vector) -> float:\n",
    "    \"\"\"Returns v_1 * v_1 + ... + v_n * v_n\"\"\"\n",
    "    return dot(v, v)\n",
    "\n",
    "assert sum_of_squares([1, 2, 3]) == 14 # 1 * 1 + 2 * 2 + 3 * 3"
   ]
  },
  {
   "cell_type": "code",
   "execution_count": 15,
   "id": "8ae15d4b",
   "metadata": {},
   "outputs": [],
   "source": [
    "# computing magnitude of sum_of_squares\n",
    "import math\n",
    "def magnitude(v: Vector) -> float:\n",
    "    \"\"\"Returns the magnitude (or length) of v\"\"\"\n",
    "    return math.sqrt(sum_of_squares(v)) # math.sqrt is square root function\n",
    "\n",
    "assert magnitude([3, 4]) == 5"
   ]
  },
  {
   "cell_type": "markdown",
   "id": "10cf0bb8",
   "metadata": {},
   "source": [
    "#### Computing distance between two vectors."
   ]
  },
  {
   "cell_type": "code",
   "execution_count": 16,
   "id": "fca42a98",
   "metadata": {},
   "outputs": [],
   "source": [
    "def distance(v: Vector, w: Vector) -> float:\n",
    "    return magnitude(subtract(v, w))"
   ]
  },
  {
   "cell_type": "markdown",
   "id": "11da2300",
   "metadata": {},
   "source": [
    "### Matrices\n"
   ]
  },
  {
   "cell_type": "markdown",
   "id": "3514190b",
   "metadata": {},
   "source": [
    "#### A matrix is a two-dimensional collection of numbers."
   ]
  },
  {
   "cell_type": "code",
   "execution_count": 18,
   "id": "150ca6f2",
   "metadata": {},
   "outputs": [
    {
     "data": {
      "text/plain": [
       "(2, 3)"
      ]
     },
     "execution_count": 18,
     "metadata": {},
     "output_type": "execute_result"
    }
   ],
   "source": [
    "Matrix = List[List[float]]\n",
    "\n",
    "A = [[1, 2, 3],    # A has 2 rows and 3 columns\n",
    "    [4, 5, 6]]\n",
    "\n",
    "B = [[1, 2],\n",
    "     [3, 4],\n",
    "     [5, 6]]\n",
    "\n",
    "from typing import Tuple\n",
    "def shape(A: Matrix) -> Tuple[int, int]:\n",
    "    num_rows = len(A)\n",
    "    num_cols = len(A[0]) if A else 0 # number of elements in first row\n",
    "    return num_rows, num_cols\n",
    "\n",
    "shape([[1, 2, 3], [4, 5, 6]])"
   ]
  },
  {
   "cell_type": "code",
   "execution_count": 19,
   "id": "da991b3e",
   "metadata": {},
   "outputs": [],
   "source": [
    "def get_row(A: Matrix, i: int) -> Vector:\n",
    "    \"\"\"Returns the i-th row of A (as a Vector)\"\"\"\n",
    "    return A[i]      # A[i] is already the ith row\n",
    "    \n",
    "    \n",
    "def get_column(A: Matrix, j: int) -> Vector:\n",
    "    \"\"\"Returns the j-th column of A (as a Vector)\"\"\"\n",
    "    return [A_i[j]     # jth element of row A_i   \n",
    "        for A_i in A]  # for each row A_i\n"
   ]
  },
  {
   "cell_type": "code",
   "execution_count": 20,
   "id": "08758a09",
   "metadata": {},
   "outputs": [],
   "source": [
    "from typing import Callable\n",
    "\n",
    "def make_matrix(num_rows: int,\n",
    "                num_cols: int,\n",
    "                entry_fn: Callable[[int, int], float]) -> Matrix:\n",
    "    \"\"\"\n",
    "    Returns a num_rows x num_cols matrix\n",
    "    whose (i,j)-th entry is entry_fn(i, j)\n",
    "    \"\"\"\n",
    "    return [[entry_fn(i, j)   # given i, create a list\n",
    "        for j in range(num_cols)] #[entry_fn(i, 0), ... ]\n",
    "        for i in range(num_rows)] # create one list for each i"
   ]
  },
  {
   "cell_type": "code",
   "execution_count": 22,
   "id": "1b2bf5f0",
   "metadata": {},
   "outputs": [],
   "source": [
    "def identity_matrix(n: int) -> Matrix:\n",
    "    \"\"\"Returns the n x n identity matrix\"\"\"\n",
    "    return make_matrix(n, n, lambda i, j: 1 if i == j else 0)\n",
    "\n",
    "assert identity_matrix(5) == [[1, 0, 0, 0, 0],\n",
    "                              [0, 1, 0, 0, 0],\n",
    "                              [0, 0, 1, 0, 0],\n",
    "                              [0, 0, 0, 1, 0],\n",
    "                              [0, 0, 0, 0, 1]]"
   ]
  }
 ],
 "metadata": {
  "kernelspec": {
   "display_name": "Python 3 (ipykernel)",
   "language": "python",
   "name": "python3"
  },
  "language_info": {
   "codemirror_mode": {
    "name": "ipython",
    "version": 3
   },
   "file_extension": ".py",
   "mimetype": "text/x-python",
   "name": "python",
   "nbconvert_exporter": "python",
   "pygments_lexer": "ipython3",
   "version": "3.12.3"
  }
 },
 "nbformat": 4,
 "nbformat_minor": 5
}
