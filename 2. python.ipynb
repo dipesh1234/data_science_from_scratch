{
 "cells": [
  {
   "cell_type": "code",
   "execution_count": 1,
   "id": "aa8cc7e3",
   "metadata": {},
   "outputs": [
    {
     "name": "stdout",
     "output_type": "stream",
     "text": [
      "cannot modify a typle\n"
     ]
    }
   ],
   "source": [
    "# list and tuples\n",
    "my_list = [1,2]\n",
    "my_tuple = (1,2)\n",
    "other_tuple = 3,4\n",
    "my_list[1] = 3\n",
    "try:\n",
    "    my_tuple[1] = 3\n",
    "except TypeError:\n",
    "    print(\"cannot modify a typle\")"
   ]
  },
  {
   "cell_type": "code",
   "execution_count": 2,
   "id": "a34dada9",
   "metadata": {},
   "outputs": [
    {
     "name": "stdout",
     "output_type": "stream",
     "text": [
      "80\n",
      "100\n"
     ]
    }
   ],
   "source": [
    "# dictionary\n",
    "empty_dict = {}\n",
    "empty_dict2 = dict()\n",
    "grades = {\"Joel\": 80, \"Tim\": 95}\n",
    "print(grades[\"Joel\"])\n",
    "grades[\"Joel\"] = 100\n",
    "print(grades[\"Joel\"])"
   ]
  },
  {
   "cell_type": "code",
   "execution_count": 3,
   "id": "f50cf132",
   "metadata": {},
   "outputs": [
    {
     "name": "stdout",
     "output_type": "stream",
     "text": [
      "dict_keys(['user', 'text', 'retweet_count', 'hashtags'])\n"
     ]
    }
   ],
   "source": [
    "tweet = {\n",
    "    \"user\": \"joelgrus\",\n",
    "    \"text\": \"data science is awesome\",\n",
    "    \"retweet_count\": 100,\n",
    "    \"hashtags\": [\"#data\", \"#science\", \"#datascience\", \"#awesome\", \"#yolo\"]\n",
    "}\n",
    "tweet_keys = tweet.keys()\n",
    "print(tweet_keys)"
   ]
  },
  {
   "cell_type": "code",
   "execution_count": 6,
   "id": "04980d67",
   "metadata": {},
   "outputs": [
    {
     "name": "stdout",
     "output_type": "stream",
     "text": [
      "dict_values(['joelgrus', 'data science is awesome', 100, ['#data', '#science', '#datascience', '#awesome', '#yolo']])\n",
      "dict_items([('user', 'joelgrus'), ('text', 'data science is awesome'), ('retweet_count', 100), ('hashtags', ['#data', '#science', '#datascience', '#awesome', '#yolo'])])\n",
      "True\n",
      "True\n",
      "True\n"
     ]
    }
   ],
   "source": [
    "tweet_values = tweet.values()\n",
    "print(tweet_values)\n",
    "\n",
    "tweet_items = tweet.items()\n",
    "print(tweet_items)\n",
    "\n",
    "print(\"user\" in tweet_keys)\n",
    "print(\"user\" in tweet)\n",
    "print(\"joelgrus\" in tweet_values)\n"
   ]
  },
  {
   "cell_type": "code",
   "execution_count": null,
   "id": "cfc57f6b",
   "metadata": {},
   "outputs": [],
   "source": []
  },
  {
   "cell_type": "code",
   "execution_count": 5,
   "id": "d37921bb",
   "metadata": {},
   "outputs": [],
   "source": [
    "# sets\n",
    "s= set()\n",
    "s.add(1)\n",
    "s.add(2)\n",
    "s.add(3)\n",
    "x = len(s)"
   ]
  },
  {
   "cell_type": "code",
   "execution_count": 9,
   "id": "2ebeb663",
   "metadata": {},
   "outputs": [],
   "source": [
    "# control flow\n",
    "if 1 > 2:\n",
    "    message = \"if only 1 were greater than two\"\n",
    "elif 1 > 3:\n",
    "    message = \"else stands for else if\"\n",
    "else:\n",
    "    message = \"when all else fails use else \""
   ]
  },
  {
   "cell_type": "code",
   "execution_count": 8,
   "id": "f90dc49e",
   "metadata": {},
   "outputs": [
    {
     "name": "stdout",
     "output_type": "stream",
     "text": [
      "0 is less than 10\n",
      "1 is less than 10\n",
      "2 is less than 10\n",
      "3 is less than 10\n",
      "4 is less than 10\n",
      "5 is less than 10\n",
      "6 is less than 10\n",
      "7 is less than 10\n",
      "8 is less than 10\n",
      "9 is less than 10\n",
      "0 is less than 10\n",
      "1 is less than 10\n",
      "2 is less than 10\n",
      "3 is less than 10\n",
      "4 is less than 10\n",
      "5 is less than 10\n",
      "6 is less than 10\n",
      "7 is less than 10\n",
      "8 is less than 10\n",
      "9 is less than 10\n",
      "0\n",
      "1\n",
      "2\n",
      "4\n"
     ]
    }
   ],
   "source": [
    "# while loop\n",
    "x = 0\n",
    "while x < 10:\n",
    "    print(f\"{x} is less than 10\")\n",
    "    x += 1\n",
    "\n",
    "# for loop\n",
    "for x in range(10):\n",
    "    print(f\"{x} is less than 10\")\n",
    "\n",
    "# continue and break\n",
    "for x in range(10):\n",
    "    if x == 3:\n",
    "        continue\n",
    "    if x == 5:\n",
    "        break\n",
    "    print(x)"
   ]
  }
 ],
 "metadata": {
  "kernelspec": {
   "display_name": "Python 3 (ipykernel)",
   "language": "python",
   "name": "python3"
  },
  "language_info": {
   "codemirror_mode": {
    "name": "ipython",
    "version": 3
   },
   "file_extension": ".py",
   "mimetype": "text/x-python",
   "name": "python",
   "nbconvert_exporter": "python",
   "pygments_lexer": "ipython3",
   "version": "3.12.3"
  }
 },
 "nbformat": 4,
 "nbformat_minor": 5
}
